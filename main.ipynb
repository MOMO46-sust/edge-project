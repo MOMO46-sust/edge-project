{
  "cells": [
    {
      "cell_type": "markdown",
      "metadata": {
        "id": "view-in-github",
        "colab_type": "text"
      },
      "source": [
        "<a href=\"https://colab.research.google.com/github/MOMO46-sust/edge-project/blob/main/main.ipynb\" target=\"_parent\"><img src=\"https://colab.research.google.com/assets/colab-badge.svg\" alt=\"Open In Colab\"/></a>"
      ]
    },
    {
      "cell_type": "code",
      "execution_count": null,
      "metadata": {
        "id": "q-zRf9YNZFnt"
      },
      "outputs": [],
      "source": [
        "import pandas as pd\n",
        "\n",
        "\n",
        "data = [\n",
        "    [\"Tom\", \"STU-20301\", \"Real\", 85, 95, \"Yes\"],\n",
        "    [\"Jerry\", \"STU-20302\", \"Real\", 78, 82, \"Yes\"],\n",
        "    [\"Bob\", \"STU-20303\", \"Real\", 92, 88, \"Yes\"],\n",
        "    [\"Alice\", \"STU-20304\", \"Real\", 88, 74, \"No\"],\n",
        "    [\"Max\", \"STU-20305\", \"Real\", 75, 45, \"Yes\"],\n",
        "    [\"Lily\", \"STU-20306\", \"Real\", 89, 84, \"No\"],\n",
        "    [\"Jack\", \"STU-20307\", \"Real\", 67, 65, \"No\"],\n",
        "    [\"Sam\", \"STU-20308\", \"Real\", 48, 78, \"Yes\"],\n",
        "    [\"Eva\", \"STU-20309\", \"Real\", 73, 70, \"Yes\"],\n",
        "    [\"Mia\", \"STU-20310\", \"Real\", 56, 96, \"Yes\"]\n",
        "]\n",
        "\n",
        "\n",
        "columns = [\"Student Name\", \"Student ID\", \"Subject\", \"Score\", \"Attendance Percentage\", \"Assignment Completion\"]\n",
        "\n",
        "\n",
        "df = pd.DataFrame(data, columns=columns)\n",
        "\n",
        "df.to_csv(\"student_data.csv\", index=False)\n",
        "\n"
      ]
    },
    {
      "cell_type": "code",
      "execution_count": null,
      "metadata": {
        "colab": {
          "base_uri": "https://localhost:8080/"
        },
        "id": "5B8becDzZFnv",
        "outputId": "705eb693-70c4-48e7-c30d-64f0f5b5fd8f"
      },
      "outputs": [
        {
          "output_type": "stream",
          "name": "stdout",
          "text": [
            "Original Data:\n",
            "  Student Name Student ID Subject  Score  Attendance Percentage  \\\n",
            "0          Tom  STU-20301    Real     85                     95   \n",
            "1        Jerry  STU-20302    Real     78                     82   \n",
            "2          Bob  STU-20303    Real     92                     88   \n",
            "3        Alice  STU-20304    Real     88                     74   \n",
            "4          Max  STU-20305    Real     75                     45   \n",
            "5         Lily  STU-20306    Real     89                     84   \n",
            "6         Jack  STU-20307    Real     67                     65   \n",
            "7          Sam  STU-20308    Real     48                     78   \n",
            "8          Eva  STU-20309    Real     73                     70   \n",
            "9          Mia  STU-20310    Real     56                     96   \n",
            "\n",
            "  Assignment Completion  \n",
            "0                   Yes  \n",
            "1                   Yes  \n",
            "2                   Yes  \n",
            "3                    No  \n",
            "4                   Yes  \n",
            "5                    No  \n",
            "6                    No  \n",
            "7                   Yes  \n",
            "8                   Yes  \n",
            "9                   Yes  \n",
            "\n",
            "Updated Data has been written to 'updated_student_data.csv'\n"
          ]
        }
      ],
      "source": [
        "import pandas as pd\n",
        "\n",
        "data = pd.read_csv(\"student_data.csv\")\n",
        "print(\"Original Data:\")\n",
        "print(data)\n",
        "\n",
        "data['Score'] = data['Score'] + 5\n",
        "\n",
        "data.to_csv(\"updated_student_data.csv\", index=False)\n",
        "print(\"\\nUpdated Data has been written to 'updated_student_data.csv'\")\n"
      ]
    },
    {
      "cell_type": "markdown",
      "metadata": {
        "id": "LYTKYfHVZFnx"
      },
      "source": [
        " Data Analysis and Manipulation"
      ]
    },
    {
      "cell_type": "code",
      "execution_count": null,
      "metadata": {
        "colab": {
          "base_uri": "https://localhost:8080/"
        },
        "id": "2_cQgeMFZFn0",
        "outputId": "62dca004-0bdc-47f5-aa8b-1391052d418e"
      },
      "outputs": [
        {
          "output_type": "stream",
          "name": "stdout",
          "text": [
            "\n",
            "Average Score: 75.1\n",
            "Minimum Score: 48\n",
            "Maximum Score: 92\n",
            "\n",
            "Students with attendance < 75% or missing assignments:\n",
            "  Student Name Student ID Subject  Score  Attendance Percentage  \\\n",
            "3        Alice  STU-20304    Real     88                     74   \n",
            "4          Max  STU-20305    Real     75                     45   \n",
            "5         Lily  STU-20306    Real     89                     84   \n",
            "6         Jack  STU-20307    Real     67                     65   \n",
            "8          Eva  STU-20309    Real     73                     70   \n",
            "\n",
            "  Assignment Completion  \n",
            "3                    No  \n",
            "4                   Yes  \n",
            "5                    No  \n",
            "6                    No  \n",
            "8                   Yes  \n",
            "\n",
            "Students failing the subject:\n",
            "  Student Name Student ID Subject  Score  Attendance Percentage  \\\n",
            "7          Sam  STU-20308    Real     48                     78   \n",
            "\n",
            "  Assignment Completion  \n",
            "7                   Yes  \n",
            "\n",
            "Updated Data has been written to 'updated_student_data.csv'\n"
          ]
        }
      ],
      "source": [
        "import pandas as pd\n",
        "\n",
        "data = pd.read_csv(\"student_data.csv\")\n",
        "\n",
        "average_score = data['Score'].mean()\n",
        "min_score = data['Score'].min()\n",
        "max_score = data['Score'].max()\n",
        "print(f\"\\nAverage Score: {average_score}\")\n",
        "print(f\"Minimum Score: {min_score}\")\n",
        "print(f\"Maximum Score: {max_score}\")\n",
        "\n",
        "low_attendance_or_missing_assignments = data[(data['Attendance Percentage'] < 75) | (data['Assignment Completion'] == 'No')]\n",
        "print(\"\\nStudents with attendance < 75% or missing assignments:\")\n",
        "print(low_attendance_or_missing_assignments)\n",
        "\n",
        "failing_students = data[data['Score'] < 50]\n",
        "print(\"\\nStudents failing the subject:\")\n",
        "print(failing_students)\n",
        "\n",
        "data['Score'] = data['Score'].astype(int)\n",
        "\n",
        "data.to_csv(\"updated_student_data.csv\", index=False)\n",
        "print(\"\\nUpdated Data has been written to 'updated_student_data.csv'\")\n"
      ]
    },
    {
      "cell_type": "markdown",
      "metadata": {
        "id": "_92Pzw4PZFn1"
      },
      "source": [
        " Applying Functions and Logic\n"
      ]
    },
    {
      "cell_type": "code",
      "execution_count": null,
      "metadata": {
        "colab": {
          "base_uri": "https://localhost:8080/"
        },
        "id": "CorjBCU4ZFn2",
        "outputId": "41ad0170-f828-4426-c596-31bc63e11070"
      },
      "outputs": [
        {
          "output_type": "stream",
          "name": "stdout",
          "text": [
            "   Student Name Student ID Subject  Score  Attendance Percentage  \\\n",
            "0           Tom  STU-20301    Real     85                     95   \n",
            "1         Jerry  STU-20302    Real     78                     82   \n",
            "2           Bob  STU-20303    Real     92                     88   \n",
            "3         Alice  STU-20304    Real     88                     74   \n",
            "4           Max  STU-20305    Real     75                     45   \n",
            "5          Lily  STU-20306    Real     89                     84   \n",
            "6          Jack  STU-20307    Real     67                     65   \n",
            "7           Sam  STU-20308    Real     48                     78   \n",
            "8           Eva  STU-20309    Real     73                     70   \n",
            "9           Mia  STU-20310    Real     56                     96   \n",
            "10     Bot Momo  STU-20345    Real     30                     20   \n",
            "\n",
            "   Assignment Completion  Aggregate Score Grade  \n",
            "0                    Yes             88.5     B  \n",
            "1                    Yes             81.0     B  \n",
            "2                    Yes             92.0     A  \n",
            "3                     No             76.4     B  \n",
            "4                    Yes             71.5     C  \n",
            "5                     No             79.1     B  \n",
            "6                     No             59.9     C  \n",
            "7                    Yes             59.2     C  \n",
            "8                    Yes             75.1     B  \n",
            "9                    Yes             68.4     C  \n",
            "10                    No             25.0  Fail  \n"
          ]
        }
      ],
      "source": [
        "import pandas as pd\n",
        "\n",
        "data = pd.read_csv(\"student_data.csv\")\n",
        "\n",
        "def calculate_aggregate(row):\n",
        "    score_weight = 0.7\n",
        "    attendance_weight = 0.2\n",
        "    assignment_factor = 10 if row['Assignment Completion'] == 'Yes' else 0\n",
        "    aggregate_score = (row['Score'] * score_weight) + (row['Attendance Percentage'] * attendance_weight) + assignment_factor\n",
        "    return aggregate_score\n",
        "\n",
        "def determine_grade(aggregate_score):\n",
        "    if aggregate_score >= 90:\n",
        "        return \"A\"\n",
        "    elif aggregate_score >= 75:\n",
        "        return \"B\"\n",
        "    elif aggregate_score >= 50:\n",
        "        return \"C\"\n",
        "    else:\n",
        "        return \"Fail\"\n",
        "\n",
        "def generate_report(row):\n",
        "    aggregate_score = calculate_aggregate(row)\n",
        "    grade = determine_grade(aggregate_score)\n",
        "    return {\n",
        "        \"Student Name\": row['Student Name'],\n",
        "        \"Student ID\": row['Student ID'],\n",
        "        \"Subject\": row['Subject'],\n",
        "        \"Score\": row['Score'],\n",
        "        \"Attendance Percentage\": row['Attendance Percentage'],\n",
        "        \"Assignment Completion\": row['Assignment Completion'],\n",
        "        \"Aggregate Score\": aggregate_score,\n",
        "        \"Grade\": grade\n",
        "    }\n",
        "\n",
        "reports = data.apply(generate_report, axis=1)\n",
        "\n",
        "report_df = pd.DataFrame(reports.tolist())\n",
        "\n",
        "report_df.to_csv(\"student_performance_report.csv\", index=False)\n",
        "\n",
        "print(report_df)\n"
      ]
    },
    {
      "cell_type": "markdown",
      "metadata": {
        "id": "HA1zYdDAZFn3"
      },
      "source": [
        " Visualization"
      ]
    },
    {
      "cell_type": "code",
      "execution_count": null,
      "metadata": {
        "colab": {
          "base_uri": "https://localhost:8080/",
          "height": 1000
        },
        "id": "h0y1-_JXZFn4",
        "outputId": "ad0b0d34-b82c-4885-e6c5-5b17989c925e"
      },
      "outputs": [
        {
          "output_type": "display_data",
          "data": {
            "text/plain": [
              "<Figure size 800x500 with 1 Axes>"
            ],
            "image/png": "[encoded data removed]"
          },
          "metadata": {}
        },
        {
          "output_type": "display_data",
          "data": {
            "text/plain": [
              "<Figure size 600x600 with 1 Axes>"
            ],
            "image/png": "[encoded data removed]"
          },
          "metadata": {}
        },
        {
          "output_type": "display_data",
          "data": {
            "text/plain": [
              "<Figure size 800x500 with 1 Axes>"
            ],
            "image/png": "[encoded data removed]"
          },
          "metadata": {}
        }
      ],
      "source": [
        "import pandas as pd\n",
        "import matplotlib.pyplot as plt\n",
        "\n",
        "data = pd.read_csv(\"student_data.csv\")\n",
        "\n",
        "average_scores_by_subject = data.groupby('Subject')['Score'].mean()\n",
        "\n",
        "plt.figure(figsize=(8, 5))\n",
        "ax = average_scores_by_subject.plot(kind='bar', color='skyblue')\n",
        "\n",
        "\n",
        "\n",
        "\n",
        "plt.title('Average Scores by Subject')\n",
        "plt.xlabel('Subject')\n",
        "plt.ylabel('Average Score')\n",
        "plt.xticks(rotation=0)\n",
        "plt.tight_layout()\n",
        "plt.show()\n",
        "\n",
        "def attendance_category(attendance):\n",
        "    if attendance < 50:\n",
        "        return '<50%'\n",
        "    elif 50 <= attendance < 75:\n",
        "        return '50-75%'\n",
        "    else:\n",
        "        return '>75%'\n",
        "\n",
        "data['Attendance Category'] = data['Attendance Percentage'].apply(attendance_category)\n",
        "\n",
        "attendance_category_counts = data['Attendance Category'].value_counts()\n",
        "\n",
        "plt.figure(figsize=(6, 6))\n",
        "attendance_category_counts.plot(kind='pie', autopct='%1.1f%%', startangle=90, colors=['#ff9999','#66b3ff','#99ff99'])\n",
        "plt.title('Attendance Percentage Categories')\n",
        "plt.ylabel('')\n",
        "plt.tight_layout()\n",
        "plt.show()\n",
        "\n",
        "selected_student = 'Bot Momo'\n",
        "student_data = data[data['Student Name'] == selected_student].sort_values('Student ID')\n",
        "\n",
        "plt.figure(figsize=(8, 5))\n",
        "plt.plot(student_data['Student ID'], student_data['Score'], marker='o', color='purple')\n",
        "plt.title(f'Performance Trends for {selected_student}')\n",
        "plt.xlabel('Student ID')\n",
        "plt.ylabel('Score')\n",
        "plt.grid(True)\n",
        "plt.tight_layout()\n",
        "plt.show()\n"
      ]
    },
    {
      "cell_type": "markdown",
      "metadata": {
        "id": "2R__1bq-ZFn6"
      },
      "source": [
        "interactive console"
      ]
    },
    {
      "cell_type": "code",
      "execution_count": null,
      "metadata": {
        "colab": {
          "base_uri": "https://localhost:8080/"
        },
        "id": "ru43xjGOZFn6",
        "outputId": "2137a50b-6afc-45f2-bb1b-eadcf3299a47"
      },
      "outputs": [
        {
          "output_type": "stream",
          "name": "stdout",
          "text": [
            "\n",
            "Options: \n",
            "1. Add new student\n",
            "2. Search for a student\n",
            "3. Update student's score or attendance\n",
            "4. Exit\n",
            "Choose an option (1/2/3/4): 1\n",
            "Enter student's name: Bot Momo\n",
            "Enter student ID (e.g., STU-12345): STU-20345\n",
            "Enter subject: Real\n",
            "Enter score: 30\n",
            "Enter attendance percentage: 20\n",
            "Is the assignment completed? (Yes/No): No\n",
            "\n",
            "Options: \n",
            "1. Add new student\n",
            "2. Search for a student\n",
            "3. Update student's score or attendance\n",
            "4. Exit\n",
            "Choose an option (1/2/3/4): 4\n",
            "Data saved to 'student_data.csv'.\n"
          ]
        }
      ],
      "source": [
        "import pandas as pd\n",
        "\n",
        "def add_new_student(data, student_name, student_id, subject, score, attendance, assignment_completion):\n",
        "    new_student = {\n",
        "        \"Student Name\": student_name,\n",
        "        \"Student ID\": student_id,\n",
        "        \"Subject\": subject,\n",
        "        \"Score\": score,\n",
        "        \"Attendance Percentage\": attendance,\n",
        "        \"Assignment Completion\": assignment_completion\n",
        "    }\n",
        "\n",
        "    new_student_df = pd.DataFrame([new_student])\n",
        "    data = pd.concat([data, new_student_df], ignore_index=True)\n",
        "    return data\n",
        "\n",
        "def search_student(data, search_term):\n",
        "    search_result = data[(data['Student Name'].str.contains(search_term, case=False)) | (data['Student ID'].str.contains(search_term, case=False))]\n",
        "    return search_result\n",
        "\n",
        "def update_student(data, student_id, score=None, attendance=None):\n",
        "    student = data[data['Student ID'] == student_id]\n",
        "    if student.empty:\n",
        "        print(f\"Student with ID {student_id} not found.\")\n",
        "        return data\n",
        "    if score is not None:\n",
        "        data.loc[data['Student ID'] == student_id, 'Score'] = score\n",
        "    if attendance is not None:\n",
        "        data.loc[data['Student ID'] == student_id, 'Attendance Percentage'] = attendance\n",
        "    return data\n",
        "\n",
        "def interactive_console():\n",
        "    student_data = pd.read_csv(\"student_data.csv\")\n",
        "\n",
        "    while True:\n",
        "        print(\"\\nOptions: \")\n",
        "        print(\"1. Add new student\")\n",
        "        print(\"2. Search for a student\")\n",
        "        print(\"3. Update student's score or attendance\")\n",
        "        print(\"4. Exit\")\n",
        "        choice = input(\"Choose an option (1/2/3/4): \")\n",
        "\n",
        "        if choice == \"1\":\n",
        "            student_name = input(\"Enter student's name: \")\n",
        "            student_id = input(\"Enter student ID (e.g., STU-12345): \")\n",
        "            subject = input(\"Enter subject: \")\n",
        "            score = int(input(\"Enter score: \"))\n",
        "            attendance = int(input(\"Enter attendance percentage: \"))\n",
        "            assignment_completion = input(\"Is the assignment completed? (Yes/No): \")\n",
        "            student_data = add_new_student(student_data, student_name, student_id, subject, score, attendance, assignment_completion)\n",
        "\n",
        "        elif choice == \"2\":\n",
        "            search_term = input(\"Enter student name or ID to search: \")\n",
        "            result = search_student(student_data, search_term)\n",
        "            if result.empty:\n",
        "                print(\"No student found.\")\n",
        "            else:\n",
        "                print(\"\\nSearch Results:\")\n",
        "                print(result)\n",
        "\n",
        "        elif choice == \"3\":\n",
        "            student_id = input(\"Enter the student ID to update: \")\n",
        "            score = input(\"Enter new score (or press Enter to skip): \")\n",
        "            score = int(score) if score else None\n",
        "            attendance = input(\"Enter new attendance percentage (or press Enter to skip): \")\n",
        "            attendance = int(attendance) if attendance else None\n",
        "            student_data = update_student(student_data, student_id, score, attendance)\n",
        "\n",
        "        elif choice == \"4\":\n",
        "            student_data.to_csv(\"student_data.csv\", index=False)\n",
        "            print(\"Data saved to 'student_data.csv'.\")\n",
        "            break\n",
        "        else:\n",
        "            print(\"Invalid choice. Please try again.\")\n",
        "\n",
        "\n",
        "interactive_console()\n"
      ]
    },
    {
      "cell_type": "code",
      "execution_count": null,
      "metadata": {
        "id": "E2kJtPE7ZFn8"
      },
      "outputs": [],
      "source": []
    }
  ],
  "metadata": {
    "kernelspec": {
      "display_name": "Python 3",
      "language": "python",
      "name": "python3"
    },
    "language_info": {
      "codemirror_mode": {
        "name": "ipython",
        "version": 3
      },
      "file_extension": ".py",
      "mimetype": "text/x-python",
      "name": "python",
      "nbconvert_exporter": "python",
      "pygments_lexer": "ipython3",
      "version": "3.11.4"
    },
    "colab": {
      "provenance": [],
      "toc_visible": true,
      "include_colab_link": true
    }
  },
  "nbformat": 4,
  "nbformat_minor": 0
}